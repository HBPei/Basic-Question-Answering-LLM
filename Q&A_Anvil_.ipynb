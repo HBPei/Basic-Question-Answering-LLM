{
  "nbformat": 4,
  "nbformat_minor": 0,
  "metadata": {
    "colab": {
      "provenance": [],
      "gpuType": "T4"
    },
    "kernelspec": {
      "name": "python3",
      "display_name": "Python 3"
    },
    "language_info": {
      "name": "python"
    },
    "accelerator": "GPU"
  },
  "cells": [
    {
      "cell_type": "code",
      "execution_count": 4,
      "metadata": {
        "colab": {
          "base_uri": "https://localhost:8080/"
        },
        "id": "8FJs2JpVi3WN",
        "outputId": "882a8907-6b5e-4e09-ad7b-5689474542e5"
      },
      "outputs": [
        {
          "output_type": "stream",
          "name": "stdout",
          "text": [
            "Requirement already satisfied: torch in /usr/local/lib/python3.11/dist-packages (2.5.1+cu124)\n",
            "Requirement already satisfied: filelock in /usr/local/lib/python3.11/dist-packages (from torch) (3.17.0)\n",
            "Requirement already satisfied: typing-extensions>=4.8.0 in /usr/local/lib/python3.11/dist-packages (from torch) (4.12.2)\n",
            "Requirement already satisfied: networkx in /usr/local/lib/python3.11/dist-packages (from torch) (3.4.2)\n",
            "Requirement already satisfied: jinja2 in /usr/local/lib/python3.11/dist-packages (from torch) (3.1.5)\n",
            "Requirement already satisfied: fsspec in /usr/local/lib/python3.11/dist-packages (from torch) (2024.9.0)\n",
            "Requirement already satisfied: nvidia-cuda-nvrtc-cu12==12.4.127 in /usr/local/lib/python3.11/dist-packages (from torch) (12.4.127)\n",
            "Requirement already satisfied: nvidia-cuda-runtime-cu12==12.4.127 in /usr/local/lib/python3.11/dist-packages (from torch) (12.4.127)\n",
            "Requirement already satisfied: nvidia-cuda-cupti-cu12==12.4.127 in /usr/local/lib/python3.11/dist-packages (from torch) (12.4.127)\n",
            "Requirement already satisfied: nvidia-cudnn-cu12==9.1.0.70 in /usr/local/lib/python3.11/dist-packages (from torch) (9.1.0.70)\n",
            "Requirement already satisfied: nvidia-cublas-cu12==12.4.5.8 in /usr/local/lib/python3.11/dist-packages (from torch) (12.4.5.8)\n",
            "Requirement already satisfied: nvidia-cufft-cu12==11.2.1.3 in /usr/local/lib/python3.11/dist-packages (from torch) (11.2.1.3)\n",
            "Requirement already satisfied: nvidia-curand-cu12==10.3.5.147 in /usr/local/lib/python3.11/dist-packages (from torch) (10.3.5.147)\n",
            "Requirement already satisfied: nvidia-cusolver-cu12==11.6.1.9 in /usr/local/lib/python3.11/dist-packages (from torch) (11.6.1.9)\n",
            "Requirement already satisfied: nvidia-cusparse-cu12==12.3.1.170 in /usr/local/lib/python3.11/dist-packages (from torch) (12.3.1.170)\n",
            "Requirement already satisfied: nvidia-nccl-cu12==2.21.5 in /usr/local/lib/python3.11/dist-packages (from torch) (2.21.5)\n",
            "Requirement already satisfied: nvidia-nvtx-cu12==12.4.127 in /usr/local/lib/python3.11/dist-packages (from torch) (12.4.127)\n",
            "Requirement already satisfied: nvidia-nvjitlink-cu12==12.4.127 in /usr/local/lib/python3.11/dist-packages (from torch) (12.4.127)\n",
            "Requirement already satisfied: triton==3.1.0 in /usr/local/lib/python3.11/dist-packages (from torch) (3.1.0)\n",
            "Requirement already satisfied: sympy==1.13.1 in /usr/local/lib/python3.11/dist-packages (from torch) (1.13.1)\n",
            "Requirement already satisfied: mpmath<1.4,>=1.1.0 in /usr/local/lib/python3.11/dist-packages (from sympy==1.13.1->torch) (1.3.0)\n",
            "Requirement already satisfied: MarkupSafe>=2.0 in /usr/local/lib/python3.11/dist-packages (from jinja2->torch) (3.0.2)\n",
            "Requirement already satisfied: datasets in /usr/local/lib/python3.11/dist-packages (3.2.0)\n",
            "Requirement already satisfied: transformers in /usr/local/lib/python3.11/dist-packages (4.47.1)\n",
            "Requirement already satisfied: filelock in /usr/local/lib/python3.11/dist-packages (from datasets) (3.17.0)\n",
            "Requirement already satisfied: numpy>=1.17 in /usr/local/lib/python3.11/dist-packages (from datasets) (1.26.4)\n",
            "Requirement already satisfied: pyarrow>=15.0.0 in /usr/local/lib/python3.11/dist-packages (from datasets) (17.0.0)\n",
            "Requirement already satisfied: dill<0.3.9,>=0.3.0 in /usr/local/lib/python3.11/dist-packages (from datasets) (0.3.8)\n",
            "Requirement already satisfied: pandas in /usr/local/lib/python3.11/dist-packages (from datasets) (2.2.2)\n",
            "Requirement already satisfied: requests>=2.32.2 in /usr/local/lib/python3.11/dist-packages (from datasets) (2.32.3)\n",
            "Requirement already satisfied: tqdm>=4.66.3 in /usr/local/lib/python3.11/dist-packages (from datasets) (4.67.1)\n",
            "Requirement already satisfied: xxhash in /usr/local/lib/python3.11/dist-packages (from datasets) (3.5.0)\n",
            "Requirement already satisfied: multiprocess<0.70.17 in /usr/local/lib/python3.11/dist-packages (from datasets) (0.70.16)\n",
            "Requirement already satisfied: fsspec<=2024.9.0,>=2023.1.0 in /usr/local/lib/python3.11/dist-packages (from fsspec[http]<=2024.9.0,>=2023.1.0->datasets) (2024.9.0)\n",
            "Requirement already satisfied: aiohttp in /usr/local/lib/python3.11/dist-packages (from datasets) (3.11.11)\n",
            "Requirement already satisfied: huggingface-hub>=0.23.0 in /usr/local/lib/python3.11/dist-packages (from datasets) (0.27.1)\n",
            "Requirement already satisfied: packaging in /usr/local/lib/python3.11/dist-packages (from datasets) (24.2)\n",
            "Requirement already satisfied: pyyaml>=5.1 in /usr/local/lib/python3.11/dist-packages (from datasets) (6.0.2)\n",
            "Requirement already satisfied: regex!=2019.12.17 in /usr/local/lib/python3.11/dist-packages (from transformers) (2024.11.6)\n",
            "Requirement already satisfied: tokenizers<0.22,>=0.21 in /usr/local/lib/python3.11/dist-packages (from transformers) (0.21.0)\n",
            "Requirement already satisfied: safetensors>=0.4.1 in /usr/local/lib/python3.11/dist-packages (from transformers) (0.5.2)\n",
            "Requirement already satisfied: aiohappyeyeballs>=2.3.0 in /usr/local/lib/python3.11/dist-packages (from aiohttp->datasets) (2.4.4)\n",
            "Requirement already satisfied: aiosignal>=1.1.2 in /usr/local/lib/python3.11/dist-packages (from aiohttp->datasets) (1.3.2)\n",
            "Requirement already satisfied: attrs>=17.3.0 in /usr/local/lib/python3.11/dist-packages (from aiohttp->datasets) (25.1.0)\n",
            "Requirement already satisfied: frozenlist>=1.1.1 in /usr/local/lib/python3.11/dist-packages (from aiohttp->datasets) (1.5.0)\n",
            "Requirement already satisfied: multidict<7.0,>=4.5 in /usr/local/lib/python3.11/dist-packages (from aiohttp->datasets) (6.1.0)\n",
            "Requirement already satisfied: propcache>=0.2.0 in /usr/local/lib/python3.11/dist-packages (from aiohttp->datasets) (0.2.1)\n",
            "Requirement already satisfied: yarl<2.0,>=1.17.0 in /usr/local/lib/python3.11/dist-packages (from aiohttp->datasets) (1.18.3)\n",
            "Requirement already satisfied: typing-extensions>=3.7.4.3 in /usr/local/lib/python3.11/dist-packages (from huggingface-hub>=0.23.0->datasets) (4.12.2)\n",
            "Requirement already satisfied: charset-normalizer<4,>=2 in /usr/local/lib/python3.11/dist-packages (from requests>=2.32.2->datasets) (3.4.1)\n",
            "Requirement already satisfied: idna<4,>=2.5 in /usr/local/lib/python3.11/dist-packages (from requests>=2.32.2->datasets) (3.10)\n",
            "Requirement already satisfied: urllib3<3,>=1.21.1 in /usr/local/lib/python3.11/dist-packages (from requests>=2.32.2->datasets) (2.3.0)\n",
            "Requirement already satisfied: certifi>=2017.4.17 in /usr/local/lib/python3.11/dist-packages (from requests>=2.32.2->datasets) (2024.12.14)\n",
            "Requirement already satisfied: python-dateutil>=2.8.2 in /usr/local/lib/python3.11/dist-packages (from pandas->datasets) (2.8.2)\n",
            "Requirement already satisfied: pytz>=2020.1 in /usr/local/lib/python3.11/dist-packages (from pandas->datasets) (2024.2)\n",
            "Requirement already satisfied: tzdata>=2022.7 in /usr/local/lib/python3.11/dist-packages (from pandas->datasets) (2025.1)\n",
            "Requirement already satisfied: six>=1.5 in /usr/local/lib/python3.11/dist-packages (from python-dateutil>=2.8.2->pandas->datasets) (1.17.0)\n",
            "Requirement already satisfied: langchain in /usr/local/lib/python3.11/dist-packages (0.3.16)\n",
            "Requirement already satisfied: PyYAML>=5.3 in /usr/local/lib/python3.11/dist-packages (from langchain) (6.0.2)\n",
            "Requirement already satisfied: SQLAlchemy<3,>=1.4 in /usr/local/lib/python3.11/dist-packages (from langchain) (2.0.37)\n",
            "Requirement already satisfied: aiohttp<4.0.0,>=3.8.3 in /usr/local/lib/python3.11/dist-packages (from langchain) (3.11.11)\n",
            "Requirement already satisfied: langchain-core<0.4.0,>=0.3.32 in /usr/local/lib/python3.11/dist-packages (from langchain) (0.3.32)\n",
            "Requirement already satisfied: langchain-text-splitters<0.4.0,>=0.3.3 in /usr/local/lib/python3.11/dist-packages (from langchain) (0.3.5)\n",
            "Requirement already satisfied: langsmith<0.4,>=0.1.17 in /usr/local/lib/python3.11/dist-packages (from langchain) (0.3.2)\n",
            "Requirement already satisfied: numpy<2,>=1.22.4 in /usr/local/lib/python3.11/dist-packages (from langchain) (1.26.4)\n",
            "Requirement already satisfied: pydantic<3.0.0,>=2.7.4 in /usr/local/lib/python3.11/dist-packages (from langchain) (2.10.6)\n",
            "Requirement already satisfied: requests<3,>=2 in /usr/local/lib/python3.11/dist-packages (from langchain) (2.32.3)\n",
            "Requirement already satisfied: tenacity!=8.4.0,<10,>=8.1.0 in /usr/local/lib/python3.11/dist-packages (from langchain) (9.0.0)\n",
            "Requirement already satisfied: aiohappyeyeballs>=2.3.0 in /usr/local/lib/python3.11/dist-packages (from aiohttp<4.0.0,>=3.8.3->langchain) (2.4.4)\n",
            "Requirement already satisfied: aiosignal>=1.1.2 in /usr/local/lib/python3.11/dist-packages (from aiohttp<4.0.0,>=3.8.3->langchain) (1.3.2)\n",
            "Requirement already satisfied: attrs>=17.3.0 in /usr/local/lib/python3.11/dist-packages (from aiohttp<4.0.0,>=3.8.3->langchain) (25.1.0)\n",
            "Requirement already satisfied: frozenlist>=1.1.1 in /usr/local/lib/python3.11/dist-packages (from aiohttp<4.0.0,>=3.8.3->langchain) (1.5.0)\n",
            "Requirement already satisfied: multidict<7.0,>=4.5 in /usr/local/lib/python3.11/dist-packages (from aiohttp<4.0.0,>=3.8.3->langchain) (6.1.0)\n",
            "Requirement already satisfied: propcache>=0.2.0 in /usr/local/lib/python3.11/dist-packages (from aiohttp<4.0.0,>=3.8.3->langchain) (0.2.1)\n",
            "Requirement already satisfied: yarl<2.0,>=1.17.0 in /usr/local/lib/python3.11/dist-packages (from aiohttp<4.0.0,>=3.8.3->langchain) (1.18.3)\n",
            "Requirement already satisfied: jsonpatch<2.0,>=1.33 in /usr/local/lib/python3.11/dist-packages (from langchain-core<0.4.0,>=0.3.32->langchain) (1.33)\n",
            "Requirement already satisfied: packaging<25,>=23.2 in /usr/local/lib/python3.11/dist-packages (from langchain-core<0.4.0,>=0.3.32->langchain) (24.2)\n",
            "Requirement already satisfied: typing-extensions>=4.7 in /usr/local/lib/python3.11/dist-packages (from langchain-core<0.4.0,>=0.3.32->langchain) (4.12.2)\n",
            "Requirement already satisfied: httpx<1,>=0.23.0 in /usr/local/lib/python3.11/dist-packages (from langsmith<0.4,>=0.1.17->langchain) (0.28.1)\n",
            "Requirement already satisfied: orjson<4.0.0,>=3.9.14 in /usr/local/lib/python3.11/dist-packages (from langsmith<0.4,>=0.1.17->langchain) (3.10.15)\n",
            "Requirement already satisfied: requests-toolbelt<2.0.0,>=1.0.0 in /usr/local/lib/python3.11/dist-packages (from langsmith<0.4,>=0.1.17->langchain) (1.0.0)\n",
            "Requirement already satisfied: zstandard<0.24.0,>=0.23.0 in /usr/local/lib/python3.11/dist-packages (from langsmith<0.4,>=0.1.17->langchain) (0.23.0)\n",
            "Requirement already satisfied: annotated-types>=0.6.0 in /usr/local/lib/python3.11/dist-packages (from pydantic<3.0.0,>=2.7.4->langchain) (0.7.0)\n",
            "Requirement already satisfied: pydantic-core==2.27.2 in /usr/local/lib/python3.11/dist-packages (from pydantic<3.0.0,>=2.7.4->langchain) (2.27.2)\n",
            "Requirement already satisfied: charset-normalizer<4,>=2 in /usr/local/lib/python3.11/dist-packages (from requests<3,>=2->langchain) (3.4.1)\n",
            "Requirement already satisfied: idna<4,>=2.5 in /usr/local/lib/python3.11/dist-packages (from requests<3,>=2->langchain) (3.10)\n",
            "Requirement already satisfied: urllib3<3,>=1.21.1 in /usr/local/lib/python3.11/dist-packages (from requests<3,>=2->langchain) (2.3.0)\n",
            "Requirement already satisfied: certifi>=2017.4.17 in /usr/local/lib/python3.11/dist-packages (from requests<3,>=2->langchain) (2024.12.14)\n",
            "Requirement already satisfied: greenlet!=0.4.17 in /usr/local/lib/python3.11/dist-packages (from SQLAlchemy<3,>=1.4->langchain) (3.1.1)\n",
            "Requirement already satisfied: anyio in /usr/local/lib/python3.11/dist-packages (from httpx<1,>=0.23.0->langsmith<0.4,>=0.1.17->langchain) (3.7.1)\n",
            "Requirement already satisfied: httpcore==1.* in /usr/local/lib/python3.11/dist-packages (from httpx<1,>=0.23.0->langsmith<0.4,>=0.1.17->langchain) (1.0.7)\n",
            "Requirement already satisfied: h11<0.15,>=0.13 in /usr/local/lib/python3.11/dist-packages (from httpcore==1.*->httpx<1,>=0.23.0->langsmith<0.4,>=0.1.17->langchain) (0.14.0)\n",
            "Requirement already satisfied: jsonpointer>=1.9 in /usr/local/lib/python3.11/dist-packages (from jsonpatch<2.0,>=1.33->langchain-core<0.4.0,>=0.3.32->langchain) (3.0.0)\n",
            "Requirement already satisfied: sniffio>=1.1 in /usr/local/lib/python3.11/dist-packages (from anyio->httpx<1,>=0.23.0->langsmith<0.4,>=0.1.17->langchain) (1.3.1)\n"
          ]
        }
      ],
      "source": [
        "! pip install torch\n",
        "! pip install datasets transformers\n",
        "! pip install langchain"
      ]
    },
    {
      "cell_type": "code",
      "source": [
        "# importing dependencies for bert model\n",
        "from transformers import AutoModelForQuestionAnswering, AutoTokenizer, pipeline\n"
      ],
      "metadata": {
        "id": "-DsLJ_MDj-RQ"
      },
      "execution_count": 5,
      "outputs": []
    },
    {
      "cell_type": "code",
      "source": [
        "model_name = \"deepset/roberta-base-squad2\"\n",
        "nlp = pipeline('question-answering', model=model_name, tokenizer=model_name)\n"
      ],
      "metadata": {
        "colab": {
          "base_uri": "https://localhost:8080/"
        },
        "id": "aVHKgMpUkYQU",
        "outputId": "654c1c50-8f22-4a60-8300-9a574032593e"
      },
      "execution_count": 6,
      "outputs": [
        {
          "output_type": "stream",
          "name": "stderr",
          "text": [
            "/usr/local/lib/python3.11/dist-packages/huggingface_hub/utils/_auth.py:94: UserWarning: \n",
            "The secret `HF_TOKEN` does not exist in your Colab secrets.\n",
            "To authenticate with the Hugging Face Hub, create a token in your settings tab (https://huggingface.co/settings/tokens), set it as secret in your Google Colab and restart your session.\n",
            "You will be able to reuse this secret in all of your notebooks.\n",
            "Please note that authentication is recommended but still optional to access public models or datasets.\n",
            "  warnings.warn(\n",
            "Device set to use cuda:0\n"
          ]
        }
      ]
    },
    {
      "cell_type": "code",
      "source": [
        "text = \"\"\"\n",
        "['No offers found', 'Our guide to astrophotography for beginners covers everything from equipment to shooting modes to locations and more — a must-read for anyone just starting out.', 'When you purchase through links on our site, we may earn an affiliate commission.Here’s how it works.', \"When you're in the early days of photographing the night sky, it can be hard to know where to start to get the best results. In this astrophotography for beginners guide, we have put together some steps to help you get the most out of capturing the night sky at its best.\", \"The subject of astrophotography is so broad with so many subcategories that it might feel daunting to get started, but in this guide, we've concentrated our knowledge into a beginner's guide to astrophotography that will equip you, most importantly, with basic techniques, but also some suggestions of creative ways to capture the night sky.\", \"Before you start, you'll need to invest a little bit of money in purchasing the right camera. We've suggested thebest cameras for astrophotographyand thebest lenses for astroto help get you started with this element. In general, you'll want to concentrate your purchasing on the best lens you can buy – don't worry about spending a little less on the camera, as ultimately, it's the quality of the glass that will make a difference. You'll also want to look at some accessories liketripods,lens heatersand of course, a good warm coat for long periods standing outdoors.\", '', \"The second investment is time and patience. Astrophotography can be tricky to get right the first time, but part of the enjoyment is the constant learning. It will often take many attempts to iterate on the same ideas until you can finally provide an image with some real ‘wow' factor.\", \"We'll be covering everything you need to get going in this article, including the equipment you'll need as well as how to plan your astro shoot and the camera settings you'll need to effectively photograph the night sky. We also include tips on getting the most out of the images you capture, including editing them in some of thebest photo editing apps.\", \"The first bit of advice, though, is a simple one: have a go. Even if you don't own a flashy camera, use what you have. You can even use yoursmartphone for astrophotographyif necessary. You'll be surprised what they're capable of, particularly using the night modes on more recent models.\", \"Although smartphones and portable point-and-shoot cameras can be used for astrophotography, we recommend using a DSLR or mirrorless camera. We've summarised some of the pros and cons in thisDSLR vs.Mirrorlesscamera article. If you're tempted by a newer mirrorless camera and are wondering if youshould buy a DSLR camera, we also discuss that and assess the pros and cons here.\", \"The first thing to do is switch away from auto modes and put the camera into manual operation, both in terms of exposure and focus. We'd recommend using manual focusing when shooting the night sky because a good deal of light is required for the sensor in a camera to focus accurately. As the night sky is so dark, it won't be able to pick up enough light to hone in on an object accurately. If you have a screen that flips out on the back of your camera, it can be easier to focus, sostarsappear as points and not circles. Stopping the lens at infinity isn't enough, so zoom in to the maximum zoom length and use the screen's controls to get your focus as accurate as possible.\", \"If you have the budget available, we'd recommend using a full-frame camera. These cameras generally perform the best in low-light situations as they have a larger sensor. However, as megapixel counts increase, this advantage is becoming slimmer, and modern crop-sensor cameras are very capable for astrophotography. They are also a more affordable option than full-frame cameras. Newer models like theCanon EOS R7are very well suited to snapping the night sky. Here we have compiled a list of thebest cameras for astrophotography.\", '', \"When it comes to lenses, you will want to purchase the 'fastest' lens available and depending on the style of astrophotography, you'll want to look for a wide or super wide lens – somewhere in the 12-35mm range is best suited tolandscape photographyand astrophotography.\", \"Wide-angle focal lengths allow you to capture a good portion of the night sky as well as some of the landscape for foreground interest. A large maximum aperture is needed – these are referred to as ‘fast' lenses, so look with options that have the smallest f-stop number possible – we'd recommend f/2.8 or faster. If you're looking for a prime lens (a lens that doesn't have a zoom range), you'll have options of f/1.8 or wider, which cost more but tend to produce sharper results.\", \"A lens like theRokinon (Samyang) 14mm f/2.8is a great lens to get started with and is very affordable. If you're ready to spend a little more, theSigma f/1.4 14mm ARTor theSony FE 14mm f/1.8 GMlens would both be great options.The best lenses for astrophotographyoften require significant additional investment, but in the meantime, the kit lens that came with your camera is perfectly adequate to practice the right techniques on. All you need to do is make sure you operate at the maximum available aperture size (typically around f/4 on stock kit lenses).\", '', \"There are lots of additional things you can buy to assist you in your astrophotography journey, but a tripod is probably the only real essential of getting going straight away. You won't be able to hold the camera still enough for the shutter speeds required to capture the darkness of the night, using one of thebest tripodsfor night sky photos is a must. Look for options that have smooth tilting heads and lockable moving parts that are made out of good quality materials — you'll lessen the risk of camera shake by doing so.\", \"Once you've got a decent camera and a good lens you are happy with, we recommend purchasing a remote shutter. This is a button on a cable attached to the camera that enables you to trigger the shutter without being near the camera itself. This reduces shake by minimizing the risk of vibrations traveling through the camera when you press the button.\", 'These are inexpensive, and there is no real guidance on the best ones to buy. Some of the cheaper cable release options work fine, although for a little more, you can purchase a wireless option that reduces the risk of interference and camera shake even further. Just plug it into the designated port in your camera and press the button on the release instead of the one on the camera.', \"It's worth mentioning that if you don't have a cable or wireless release, you can also use the camera's delay timer to set, for example, a ten-second gap between pressing the button and taking the picture.\", \"When you feel ready to photograph star trails, we have a guide onhow to do soand thebest intervalometers,which you may find useful. An intervalometer does what the name suggests—it\\xa0releases your shutter at regular predefined intervals to capture the night sky's 'movement' throughout the evening. Increasingly, many modern cameras have interval shooting built-in, so spend some time with your camera's manual to figure out how it works.\", '', \"It's really important to keep your hands free to operate your camera when out at night, so purchasing a good-quality headlamp is important. We've rounded up some of thebest headlamps for astronomy and stargazinghere. A good headlamp will also come in handy when traveling with and sorting out your camera bags, bodies, and lenses in almost pitch darkness.\", \"If you want to get creative, a headlamp is also helpful for 'light painting' objects in the foreground of your images. This can help create great effects and 'light' an object in the foreground to help it stand out.\", '', \"The first thing you'll find when you're looking to plan your astrophotography adventures is that finding dark enough skies around the world is becoming a serious issue, such is the ever-expanding nature of our urban centres.\", \"Ideally, you'll need to be in a dark sky area — there are21 amazing dark sky reserves around the world— and this will help with capturing really detailed images of the night sky.\", \"It's worth familiarising yourself with several handy websites, such asDark Site FinderandLight Pollution Map,that will help you\\xa0find a suitable location to shoot. It's also worth looking at a good weather app with hourly reports on atmospheric conditions and cloud levels, as bad weather or poor sky conditions can seriously hamper any night sky image-making. Thebest stargazing appsare relatively affordable, and they're extremely helpful when it comes to selecting your location and knowing the best time to shoot.\", '', \"One of the great things about photographing the night sky is that it's constantly changing, and apps likeStellariumandStarwalk 2allow you to visualize how the night sky will look at any time and date for a specific location, so you can plan your shoot ahead of time. Things like meteor showers and comets are unpredictable, and the weather can easily close in and spoil everything, so as well as patience, it's worth checking out what thenight sky is doing on your chosen nightto determine what you'll see and where.\", '', \"After ensuring you have the right kit and you know what, where and how you'll shoot, this section of the guide will look into the modes you'll want to concentrate on and how to get the best results from your camera.\", \"As we've mentioned before, it's important to put the camera into M, or Manual mode using the mode dial on the top of the camera. This will give you the ability to alter the shutter speed, aperture, and ISO manually rather than having the camera do it for you.\", 'Your aperture will need to be as wide as possible, which means setting it to the widest setting, which is the lowest f-number. We usually recommend f/2.8 or lower. DSLRs and mirrorless cameras use a wheel on the camera body to set the aperture, but manual lenses and some made for Sony mirrorless cameras have an aperture ring on the lens itself.', \"Lower F numbers mean greater light-gathering ability and this is why prime lenses with apertures of f/1.8 and lower can be favored for night photography, although as we mentioned before, you'll need to be prepared to spend a little more on good quality but options like theSony E 11mm f/1.8 lensis great balance of quality and value for money.\", \"You will need to set your camera to record RAW image files, as shooting in jpg won't produce enough data for the image to be edited later. Post-processing, or editing your images, is an important part of astrophotography, and you'll need as much data as possible from the camera. A RAW file means just that—it's the information from the camera's sensor with no processing applied.\", \"When you're photographing the night sky you'll want to capture as much light as you can while minimizing the movement of the stars in the image — unless you're deliberately trying to create star trails. The longer the focal length of your lens, the shorter the shutter speed will need to be to avoid capturing star trails.\", \"There's a simple formula to calculate the correct shutter speed for any given lens, called the '500-rule'. In its simplest form, this is 500 divided by the focal length of your lens. For example, if you are using a 20mm lens, this would be 500 / 20mm = 25 seconds. This, however, only applies to full-frame cameras.\", 'For a crop sensor camera, the crop factor needs to be considered, so in this instance, we would recommend using a base value of 300 for APS-C cameras, and 250 for Micro Four Thirds cameras.', 'Start with an exposure of 20 seconds, which is about the longest you can leave the shutter open before stars begin to trail and see how that looks. You can then adjust as needed. As ever, it pays to experiment with this to achieve the best or most creative results possible.', '', \"ISO amplifies the light signal captured by your camera's sensor. Shooting at a higher ISO Means that the camera will have to make some ‘guesswork' as to the detail of the image, which creates ‘noise' and grainy images, but in general, you'll need a fairly high ISO when photographing the night sky unless you are photographing the moon, which is a bright object that emits enough light to enable you to use a lower ISO setting.\", 'Most cameras will deal with low-light settings in different ways, and some of thebest cameras for low light photographyare worth looking at to make the most of your pictures of the night sky. It also pays to start on a lower ISO setting, and then ramp it up, so you can see the differences in noise and image quality and how it affects your image.', \"Now your camera is on manual mode, you will also need to set your lens to manual focus using the AF/MF switch on the lens. Then, if you have it, use the 'Live View' feature of your camera to display an image preview on the camera's LCD screen. Once you have done that, identify a bright star or a distant light source and digitally zoom in on that point of light. Once you've done this, adjust the focus ring until the star or distant light source becomes as small and sharp as possible.\", \"Now that your focus is set, it's time to take the shot! Press the shutter release and wait for the image to pop up on the LCD display — it may take some time before you see the image on the LCD screen, as the camera can take a while to write the file to the memory card.\", 'If your foreground is looking a bit dark, try light painting your subject with aflashlight,headlampor your smartphone light during the exposure to help brighten the scene. You may need to adjust the ISO or aperture slightly to find what works best for your location, but you are now firmly on your way to capturing your own images of the beautiful night sky.', 'Taking multiple exposures can be a good idea to balance the light and focus between the foreground and the night sky, as they will require different settings to expose properly. These can be edited together at a later date using an editing program likePhotoshoporAdobe Lightroom.', 'You may find that getting your foreground shots an hour or so earlierduring blue hourwill help, as there is more light to work with for your foreground objects without having to crank the ISO up.', \"Reflections can really add drama and impact to night photography, especially if you're shooting the sky near a lake and the weather is still, for example. There are several ways to capture the reflection of the stars in the water — we would suggest changing your focal point to the water and taking an exposure, then setting your focus back to the night sky and taking the exact same shot. You can merge them later in the edit.\", \"You may find you need to balance your shutter speed a little here, depending on the conditions. A 20-second exposure will capture the reflection of the stars, but you may pick up movement on the water that reduces the clarity. Try shorter exposures for your reflection shot – but it might mean you have to work harder to bring out the stars in the edit. Lightroom's linear-gradient edits are perfect for bringing out the clarity and sharpness of reflections, so give that a go.\", \"White balance is somewhat of an art to get right, and it's worth experimenting a bit. While we'd usually recommend setting your white balance to a slightly cooler temperature for astro shots, use the manual white balance settings or the presets to create interesting tints and variations to your shots. There's no rule. Now you're well-versed in the process of taking night photographs and editing them, you will begin to know what looks right and wrong.\", \"If you're getting some light pollution from surrounding areas being picked up on the camera, adjusting the white balance can make it look like a feature of the photo (we recommend cooling it right down and seeing the effect that has), although you'd need agradient filterto reduce noise if you're closer to an urban area. To start out with, you can use the 'Auto White Balance' setting and experiment with cooler and warmer adjustments when you edit to see which effect you prefer.\", 'Join our Space Forumsto keep talking space on the latest missions, night sky and more! And if you have a news tip, correction or comment, let us know at:community@space.com.', 'Breaking space news, the latest updates on rocket launches, skywatching events and more!', 'Stuart is a landscape and night sky photographer based in Cornwall, UK. Having always had a keen interest in photography and space, he has refined his photography skills in recent years by combining the two passions to create aportfolioof beautiful landscape, night sky and drone images. Inspired by the rugged Cornish coastline, Stuart has had his work featured in several national publications, including a front page photo credit in The Times.', \"Why Comet G3 (ATLAS) will be 'remembered as the Great Comet of 2025' (photos)\", \"Partial solar eclipse September 2025: Everything you need to know about the 'solstice' solar eclipse\", 'Scientists find hints of the dark universe in 3D maps of the cosmos', 'Space is part of Future US Inc, an international media group and leading digital publisher.Visit our corporate site.', '©\\nFuture US, Inc. Full 7th Floor, 130 West 42nd Street,\\nNew York,\\nNY 10036.']\n",
        "\"\"\"\n"
      ],
      "metadata": {
        "id": "0BnFZDekl-BQ"
      },
      "execution_count": 8,
      "outputs": []
    },
    {
      "cell_type": "code",
      "source": [
        "question_set = {\n",
        "    'question': \"What are some of the recommended aperture size for astrophotography? Ensure to elaborate the answer too\",\n",
        "    'context': text\n",
        "}"
      ],
      "metadata": {
        "id": "kvqSFsWRlymg"
      },
      "execution_count": 11,
      "outputs": []
    },
    {
      "cell_type": "code",
      "source": [
        "ans = nlp(question_set)['answer']\n",
        "ans"
      ],
      "metadata": {
        "colab": {
          "base_uri": "https://localhost:8080/",
          "height": 90
        },
        "id": "w0E63NvNmsvu",
        "outputId": "76d82d1d-828f-4c0f-ff9e-24db53a76e98"
      },
      "execution_count": 13,
      "outputs": [
        {
          "output_type": "stream",
          "name": "stderr",
          "text": [
            "/usr/local/lib/python3.11/dist-packages/transformers/pipelines/question_answering.py:391: FutureWarning: Passing a list of SQuAD examples to the pipeline is deprecated and will be removed in v5. Inputs should be passed using the `question` and `context` keyword arguments instead.\n",
            "  warnings.warn(\n"
          ]
        },
        {
          "output_type": "execute_result",
          "data": {
            "text/plain": [
              "'f/2.8 or lower'"
            ],
            "application/vnd.google.colaboratory.intrinsic+json": {
              "type": "string"
            }
          },
          "metadata": {},
          "execution_count": 13
        }
      ]
    },
    {
      "cell_type": "markdown",
      "source": [
        "# Connecting to Anvil"
      ],
      "metadata": {
        "id": "4I1xZaa3sqdb"
      }
    },
    {
      "cell_type": "code",
      "source": [
        "! pip install anvil-uplink"
      ],
      "metadata": {
        "colab": {
          "base_uri": "https://localhost:8080/",
          "height": 269
        },
        "id": "VPw-sdi-snmN",
        "outputId": "4643226b-8722-4b82-8b7d-9d387d16bf27"
      },
      "execution_count": 1,
      "outputs": [
        {
          "output_type": "stream",
          "name": "stdout",
          "text": [
            "Requirement already satisfied: anvil-uplink in /usr/local/lib/python3.11/dist-packages (0.5.2)\n",
            "Collecting argparse (from anvil-uplink)\n",
            "  Using cached argparse-1.4.0-py2.py3-none-any.whl.metadata (2.8 kB)\n",
            "Requirement already satisfied: future in /usr/local/lib/python3.11/dist-packages (from anvil-uplink) (1.0.0)\n",
            "Requirement already satisfied: six in /usr/local/lib/python3.11/dist-packages (from anvil-uplink) (1.17.0)\n",
            "Requirement already satisfied: ws4py-sslupdate in /usr/local/lib/python3.11/dist-packages (from anvil-uplink) (0.5.1b0)\n",
            "Using cached argparse-1.4.0-py2.py3-none-any.whl (23 kB)\n",
            "Installing collected packages: argparse\n",
            "Successfully installed argparse-1.4.0\n"
          ]
        },
        {
          "output_type": "display_data",
          "data": {
            "application/vnd.colab-display-data+json": {
              "pip_warning": {
                "packages": [
                  "argparse"
                ]
              },
              "id": "ce3d228321234bd8968b4529906f1a90"
            }
          },
          "metadata": {}
        }
      ]
    },
    {
      "cell_type": "markdown",
      "source": [
        "# Set up callable function"
      ],
      "metadata": {
        "id": "dUEYQAuzsz-I"
      }
    },
    {
      "cell_type": "code",
      "source": [
        "from google.colab import drive\n",
        "drive.mount('/content/drive')"
      ],
      "metadata": {
        "colab": {
          "base_uri": "https://localhost:8080/"
        },
        "id": "kFi2LnNJ2eKH",
        "outputId": "82d40694-ef8c-4c9f-b2a4-0b4bda7a68fb"
      },
      "execution_count": 19,
      "outputs": [
        {
          "output_type": "stream",
          "name": "stdout",
          "text": [
            "Mounted at /content/drive\n"
          ]
        }
      ]
    },
    {
      "cell_type": "code",
      "source": [
        "import anvil.server\n",
        "\n",
        "server_key = '/content/drive/MyDrive/anvil_server.txt'\n",
        "\n",
        "with open(server_key, \"r\", encoding = 'utf-8') as key:\n",
        "  anvil_key = key.read()\n",
        "\n",
        "anvil.server.connect(anvil_key)\n",
        "\n"
      ],
      "metadata": {
        "id": "R4FlwIHZs2ar"
      },
      "execution_count": 20,
      "outputs": []
    },
    {
      "cell_type": "code",
      "source": [
        "# informs server that this is an anvil callable function\n",
        "@anvil.server.callable\n",
        "\n",
        "#nlp function\n",
        "\n",
        "def get_answer(question, context):\n",
        "  question_set = {\n",
        "      'question': question,\n",
        "      'context': context\n",
        "  }\n",
        "  return nlp(question_set)['answer']"
      ],
      "metadata": {
        "id": "teMGP9BIxWkk"
      },
      "execution_count": 21,
      "outputs": []
    },
    {
      "cell_type": "code",
      "source": [
        "get_answer(\"What are some of the recommended aperture size for astrophotography?\",text)"
      ],
      "metadata": {
        "colab": {
          "base_uri": "https://localhost:8080/",
          "height": 90
        },
        "id": "EgCjBvLaxiMb",
        "outputId": "b2cb0f15-8681-4876-d766-23cd9eeee572"
      },
      "execution_count": 22,
      "outputs": [
        {
          "output_type": "stream",
          "name": "stderr",
          "text": [
            "/usr/local/lib/python3.11/dist-packages/transformers/pipelines/question_answering.py:391: FutureWarning: Passing a list of SQuAD examples to the pipeline is deprecated and will be removed in v5. Inputs should be passed using the `question` and `context` keyword arguments instead.\n",
            "  warnings.warn(\n"
          ]
        },
        {
          "output_type": "execute_result",
          "data": {
            "text/plain": [
              "'f/2.8 or lower'"
            ],
            "application/vnd.google.colaboratory.intrinsic+json": {
              "type": "string"
            }
          },
          "metadata": {},
          "execution_count": 22
        }
      ]
    },
    {
      "cell_type": "markdown",
      "source": [
        "private link: https://k4w4yypwrqgtkg3t.anvil.app/VG5OKQSLO3CNLGHNOU5P7DUR\n",
        "\n",
        "To do list:\n",
        "1) Further fine tuning of model\n",
        "2) Incorporate RAG\n",
        "3) Improve UI of Anvil Form"
      ],
      "metadata": {
        "id": "QlzYLsPD33Bg"
      }
    }
  ]
}